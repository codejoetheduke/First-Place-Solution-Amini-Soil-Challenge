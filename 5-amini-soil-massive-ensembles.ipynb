{
 "cells": [
  {
   "cell_type": "markdown",
   "id": "d5c9b072",
   "metadata": {
    "papermill": {
     "duration": 0.004835,
     "end_time": "2025-06-24T09:32:21.871558",
     "exception": false,
     "start_time": "2025-06-24T09:32:21.866723",
     "status": "completed"
    },
    "tags": []
   },
   "source": [
    "# 🧪 Final Spell: Ensembling the Magic Potions 🧙‍♂️✨\n",
    "After crafting multiple powerful models — each with its own strengths — it’s time to blend their wisdom. Ensembling helps us reduce variance, smooth out individual model errors, and often leads to better generalization."
   ]
  },
  {
   "cell_type": "code",
   "execution_count": 1,
   "id": "9a5802d4",
   "metadata": {
    "_cell_guid": "b1076dfc-b9ad-4769-8c92-a6c4dae69d19",
    "_uuid": "8f2839f25d086af736a60e9eeb907d3b93b6e0e5",
    "execution": {
     "iopub.execute_input": "2025-06-24T09:32:21.882110Z",
     "iopub.status.busy": "2025-06-24T09:32:21.881256Z",
     "iopub.status.idle": "2025-06-24T09:32:24.126318Z",
     "shell.execute_reply": "2025-06-24T09:32:24.125258Z"
    },
    "papermill": {
     "duration": 2.252702,
     "end_time": "2025-06-24T09:32:24.128412",
     "exception": false,
     "start_time": "2025-06-24T09:32:21.875710",
     "status": "completed"
    },
    "tags": []
   },
   "outputs": [],
   "source": [
    "import numpy as np # linear algebra\n",
    "import pandas as pd # data processing, CSV file I/O (e.g. pd.read_csv)"
   ]
  },
  {
   "cell_type": "markdown",
   "id": "d00c9644",
   "metadata": {
    "papermill": {
     "duration": 0.004752,
     "end_time": "2025-06-24T09:32:24.138862",
     "exception": false,
     "start_time": "2025-06-24T09:32:24.134110",
     "status": "completed"
    },
    "tags": []
   },
   "source": [
    "## 🧩 What’s in the Mix?"
   ]
  },
  {
   "cell_type": "code",
   "execution_count": 2,
   "id": "56ef2caf",
   "metadata": {
    "execution": {
     "iopub.execute_input": "2025-06-24T09:32:24.149357Z",
     "iopub.status.busy": "2025-06-24T09:32:24.148903Z",
     "iopub.status.idle": "2025-06-24T09:32:24.361131Z",
     "shell.execute_reply": "2025-06-24T09:32:24.360004Z"
    },
    "papermill": {
     "duration": 0.21933,
     "end_time": "2025-06-24T09:32:24.363025",
     "exception": false,
     "start_time": "2025-06-24T09:32:24.143695",
     "status": "completed"
    },
    "tags": []
   },
   "outputs": [],
   "source": [
    "sub1 = pd.read_csv('/kaggle/input/1006-amini-soil-no-log/lgbm_submission_no_log.csv')\n",
    "sub2 = pd.read_csv('/kaggle/input/1020-amini-soil-lgbm-log-sub/lgbm_submission_log.csv')\n",
    "sub3 = pd.read_csv('/kaggle/input/amini-soil-random-forest-little-fe-sub/submission-rf_little_fe_postprocess.csv')\n",
    "sub4 = pd.read_csv('/kaggle/input/random-forest-sub-extensive-fe-amini-soil/submission-rf_extensive_fe.csv')"
   ]
  },
  {
   "cell_type": "code",
   "execution_count": 3,
   "id": "c956c2e1",
   "metadata": {
    "execution": {
     "iopub.execute_input": "2025-06-24T09:32:24.372336Z",
     "iopub.status.busy": "2025-06-24T09:32:24.371984Z",
     "iopub.status.idle": "2025-06-24T09:32:24.404780Z",
     "shell.execute_reply": "2025-06-24T09:32:24.403610Z"
    },
    "papermill": {
     "duration": 0.039326,
     "end_time": "2025-06-24T09:32:24.406463",
     "exception": false,
     "start_time": "2025-06-24T09:32:24.367137",
     "status": "completed"
    },
    "tags": []
   },
   "outputs": [
    {
     "data": {
      "text/html": [
       "<div>\n",
       "<style scoped>\n",
       "    .dataframe tbody tr th:only-of-type {\n",
       "        vertical-align: middle;\n",
       "    }\n",
       "\n",
       "    .dataframe tbody tr th {\n",
       "        vertical-align: top;\n",
       "    }\n",
       "\n",
       "    .dataframe thead th {\n",
       "        text-align: right;\n",
       "    }\n",
       "</style>\n",
       "<table border=\"1\" class=\"dataframe\">\n",
       "  <thead>\n",
       "    <tr style=\"text-align: right;\">\n",
       "      <th></th>\n",
       "      <th>ID</th>\n",
       "      <th>Gap</th>\n",
       "    </tr>\n",
       "  </thead>\n",
       "  <tbody>\n",
       "    <tr>\n",
       "      <th>0</th>\n",
       "      <td>ID_NGS9Bx_N</td>\n",
       "      <td>-3890.073357</td>\n",
       "    </tr>\n",
       "    <tr>\n",
       "      <th>1</th>\n",
       "      <td>ID_NGS9Bx_P</td>\n",
       "      <td>21.454337</td>\n",
       "    </tr>\n",
       "    <tr>\n",
       "      <th>2</th>\n",
       "      <td>ID_NGS9Bx_K</td>\n",
       "      <td>-329.416736</td>\n",
       "    </tr>\n",
       "    <tr>\n",
       "      <th>3</th>\n",
       "      <td>ID_NGS9Bx_Ca</td>\n",
       "      <td>-12450.208686</td>\n",
       "    </tr>\n",
       "    <tr>\n",
       "      <th>4</th>\n",
       "      <td>ID_NGS9Bx_Mg</td>\n",
       "      <td>-3851.013127</td>\n",
       "    </tr>\n",
       "    <tr>\n",
       "      <th>...</th>\n",
       "      <td>...</td>\n",
       "      <td>...</td>\n",
       "    </tr>\n",
       "    <tr>\n",
       "      <th>26593</th>\n",
       "      <td>ID_oMn2Yb_Fe</td>\n",
       "      <td>-384.605610</td>\n",
       "    </tr>\n",
       "    <tr>\n",
       "      <th>26594</th>\n",
       "      <td>ID_oMn2Yb_Mn</td>\n",
       "      <td>-395.487203</td>\n",
       "    </tr>\n",
       "    <tr>\n",
       "      <th>26595</th>\n",
       "      <td>ID_oMn2Yb_Zn</td>\n",
       "      <td>-10.898126</td>\n",
       "    </tr>\n",
       "    <tr>\n",
       "      <th>26596</th>\n",
       "      <td>ID_oMn2Yb_Cu</td>\n",
       "      <td>-4.304426</td>\n",
       "    </tr>\n",
       "    <tr>\n",
       "      <th>26597</th>\n",
       "      <td>ID_oMn2Yb_B</td>\n",
       "      <td>-1.135523</td>\n",
       "    </tr>\n",
       "  </tbody>\n",
       "</table>\n",
       "<p>26598 rows × 2 columns</p>\n",
       "</div>"
      ],
      "text/plain": [
       "                 ID           Gap\n",
       "0       ID_NGS9Bx_N  -3890.073357\n",
       "1       ID_NGS9Bx_P     21.454337\n",
       "2       ID_NGS9Bx_K   -329.416736\n",
       "3      ID_NGS9Bx_Ca -12450.208686\n",
       "4      ID_NGS9Bx_Mg  -3851.013127\n",
       "...             ...           ...\n",
       "26593  ID_oMn2Yb_Fe   -384.605610\n",
       "26594  ID_oMn2Yb_Mn   -395.487203\n",
       "26595  ID_oMn2Yb_Zn    -10.898126\n",
       "26596  ID_oMn2Yb_Cu     -4.304426\n",
       "26597   ID_oMn2Yb_B     -1.135523\n",
       "\n",
       "[26598 rows x 2 columns]"
      ]
     },
     "execution_count": 3,
     "metadata": {},
     "output_type": "execute_result"
    }
   ],
   "source": [
    "sub1"
   ]
  },
  {
   "cell_type": "code",
   "execution_count": 4,
   "id": "430068de",
   "metadata": {
    "execution": {
     "iopub.execute_input": "2025-06-24T09:32:24.416435Z",
     "iopub.status.busy": "2025-06-24T09:32:24.416107Z",
     "iopub.status.idle": "2025-06-24T09:32:24.427114Z",
     "shell.execute_reply": "2025-06-24T09:32:24.425945Z"
    },
    "papermill": {
     "duration": 0.018443,
     "end_time": "2025-06-24T09:32:24.429129",
     "exception": false,
     "start_time": "2025-06-24T09:32:24.410686",
     "status": "completed"
    },
    "tags": []
   },
   "outputs": [
    {
     "data": {
      "text/html": [
       "<div>\n",
       "<style scoped>\n",
       "    .dataframe tbody tr th:only-of-type {\n",
       "        vertical-align: middle;\n",
       "    }\n",
       "\n",
       "    .dataframe tbody tr th {\n",
       "        vertical-align: top;\n",
       "    }\n",
       "\n",
       "    .dataframe thead th {\n",
       "        text-align: right;\n",
       "    }\n",
       "</style>\n",
       "<table border=\"1\" class=\"dataframe\">\n",
       "  <thead>\n",
       "    <tr style=\"text-align: right;\">\n",
       "      <th></th>\n",
       "      <th>ID</th>\n",
       "      <th>Gap</th>\n",
       "    </tr>\n",
       "  </thead>\n",
       "  <tbody>\n",
       "    <tr>\n",
       "      <th>0</th>\n",
       "      <td>ID_NGS9Bx_N</td>\n",
       "      <td>-3282.220573</td>\n",
       "    </tr>\n",
       "    <tr>\n",
       "      <th>1</th>\n",
       "      <td>ID_NGS9Bx_P</td>\n",
       "      <td>34.322758</td>\n",
       "    </tr>\n",
       "    <tr>\n",
       "      <th>2</th>\n",
       "      <td>ID_NGS9Bx_K</td>\n",
       "      <td>-234.209918</td>\n",
       "    </tr>\n",
       "    <tr>\n",
       "      <th>3</th>\n",
       "      <td>ID_NGS9Bx_Ca</td>\n",
       "      <td>-12538.606794</td>\n",
       "    </tr>\n",
       "    <tr>\n",
       "      <th>4</th>\n",
       "      <td>ID_NGS9Bx_Mg</td>\n",
       "      <td>-3612.015590</td>\n",
       "    </tr>\n",
       "    <tr>\n",
       "      <th>...</th>\n",
       "      <td>...</td>\n",
       "      <td>...</td>\n",
       "    </tr>\n",
       "    <tr>\n",
       "      <th>26593</th>\n",
       "      <td>ID_oMn2Yb_Fe</td>\n",
       "      <td>-356.691786</td>\n",
       "    </tr>\n",
       "    <tr>\n",
       "      <th>26594</th>\n",
       "      <td>ID_oMn2Yb_Mn</td>\n",
       "      <td>-325.503982</td>\n",
       "    </tr>\n",
       "    <tr>\n",
       "      <th>26595</th>\n",
       "      <td>ID_oMn2Yb_Zn</td>\n",
       "      <td>-8.902568</td>\n",
       "    </tr>\n",
       "    <tr>\n",
       "      <th>26596</th>\n",
       "      <td>ID_oMn2Yb_Cu</td>\n",
       "      <td>-3.918015</td>\n",
       "    </tr>\n",
       "    <tr>\n",
       "      <th>26597</th>\n",
       "      <td>ID_oMn2Yb_B</td>\n",
       "      <td>-1.221491</td>\n",
       "    </tr>\n",
       "  </tbody>\n",
       "</table>\n",
       "<p>26598 rows × 2 columns</p>\n",
       "</div>"
      ],
      "text/plain": [
       "                 ID           Gap\n",
       "0       ID_NGS9Bx_N  -3282.220573\n",
       "1       ID_NGS9Bx_P     34.322758\n",
       "2       ID_NGS9Bx_K   -234.209918\n",
       "3      ID_NGS9Bx_Ca -12538.606794\n",
       "4      ID_NGS9Bx_Mg  -3612.015590\n",
       "...             ...           ...\n",
       "26593  ID_oMn2Yb_Fe   -356.691786\n",
       "26594  ID_oMn2Yb_Mn   -325.503982\n",
       "26595  ID_oMn2Yb_Zn     -8.902568\n",
       "26596  ID_oMn2Yb_Cu     -3.918015\n",
       "26597   ID_oMn2Yb_B     -1.221491\n",
       "\n",
       "[26598 rows x 2 columns]"
      ]
     },
     "execution_count": 4,
     "metadata": {},
     "output_type": "execute_result"
    }
   ],
   "source": [
    "sub2 "
   ]
  },
  {
   "cell_type": "code",
   "execution_count": 5,
   "id": "20e729f2",
   "metadata": {
    "execution": {
     "iopub.execute_input": "2025-06-24T09:32:24.439251Z",
     "iopub.status.busy": "2025-06-24T09:32:24.438957Z",
     "iopub.status.idle": "2025-06-24T09:32:24.450192Z",
     "shell.execute_reply": "2025-06-24T09:32:24.449195Z"
    },
    "papermill": {
     "duration": 0.018231,
     "end_time": "2025-06-24T09:32:24.451987",
     "exception": false,
     "start_time": "2025-06-24T09:32:24.433756",
     "status": "completed"
    },
    "tags": []
   },
   "outputs": [
    {
     "data": {
      "text/html": [
       "<div>\n",
       "<style scoped>\n",
       "    .dataframe tbody tr th:only-of-type {\n",
       "        vertical-align: middle;\n",
       "    }\n",
       "\n",
       "    .dataframe tbody tr th {\n",
       "        vertical-align: top;\n",
       "    }\n",
       "\n",
       "    .dataframe thead th {\n",
       "        text-align: right;\n",
       "    }\n",
       "</style>\n",
       "<table border=\"1\" class=\"dataframe\">\n",
       "  <thead>\n",
       "    <tr style=\"text-align: right;\">\n",
       "      <th></th>\n",
       "      <th>ID</th>\n",
       "      <th>Gap</th>\n",
       "    </tr>\n",
       "  </thead>\n",
       "  <tbody>\n",
       "    <tr>\n",
       "      <th>0</th>\n",
       "      <td>ID_NGS9Bx_N</td>\n",
       "      <td>-3668.840000</td>\n",
       "    </tr>\n",
       "    <tr>\n",
       "      <th>1</th>\n",
       "      <td>ID_NGS9Bx_P</td>\n",
       "      <td>17.153920</td>\n",
       "    </tr>\n",
       "    <tr>\n",
       "      <th>2</th>\n",
       "      <td>ID_NGS9Bx_K</td>\n",
       "      <td>-351.728000</td>\n",
       "    </tr>\n",
       "    <tr>\n",
       "      <th>3</th>\n",
       "      <td>ID_NGS9Bx_Ca</td>\n",
       "      <td>-15872.114400</td>\n",
       "    </tr>\n",
       "    <tr>\n",
       "      <th>4</th>\n",
       "      <td>ID_NGS9Bx_Mg</td>\n",
       "      <td>-4140.016000</td>\n",
       "    </tr>\n",
       "    <tr>\n",
       "      <th>...</th>\n",
       "      <td>...</td>\n",
       "      <td>...</td>\n",
       "    </tr>\n",
       "    <tr>\n",
       "      <th>26593</th>\n",
       "      <td>ID_oMn2Yb_Fe</td>\n",
       "      <td>-416.284960</td>\n",
       "    </tr>\n",
       "    <tr>\n",
       "      <th>26594</th>\n",
       "      <td>ID_oMn2Yb_Mn</td>\n",
       "      <td>-380.442080</td>\n",
       "    </tr>\n",
       "    <tr>\n",
       "      <th>26595</th>\n",
       "      <td>ID_oMn2Yb_Zn</td>\n",
       "      <td>-9.044672</td>\n",
       "    </tr>\n",
       "    <tr>\n",
       "      <th>26596</th>\n",
       "      <td>ID_oMn2Yb_Cu</td>\n",
       "      <td>-4.142488</td>\n",
       "    </tr>\n",
       "    <tr>\n",
       "      <th>26597</th>\n",
       "      <td>ID_oMn2Yb_B</td>\n",
       "      <td>-1.216408</td>\n",
       "    </tr>\n",
       "  </tbody>\n",
       "</table>\n",
       "<p>26598 rows × 2 columns</p>\n",
       "</div>"
      ],
      "text/plain": [
       "                 ID           Gap\n",
       "0       ID_NGS9Bx_N  -3668.840000\n",
       "1       ID_NGS9Bx_P     17.153920\n",
       "2       ID_NGS9Bx_K   -351.728000\n",
       "3      ID_NGS9Bx_Ca -15872.114400\n",
       "4      ID_NGS9Bx_Mg  -4140.016000\n",
       "...             ...           ...\n",
       "26593  ID_oMn2Yb_Fe   -416.284960\n",
       "26594  ID_oMn2Yb_Mn   -380.442080\n",
       "26595  ID_oMn2Yb_Zn     -9.044672\n",
       "26596  ID_oMn2Yb_Cu     -4.142488\n",
       "26597   ID_oMn2Yb_B     -1.216408\n",
       "\n",
       "[26598 rows x 2 columns]"
      ]
     },
     "execution_count": 5,
     "metadata": {},
     "output_type": "execute_result"
    }
   ],
   "source": [
    "sub3"
   ]
  },
  {
   "cell_type": "code",
   "execution_count": 6,
   "id": "f5a74d8c",
   "metadata": {
    "execution": {
     "iopub.execute_input": "2025-06-24T09:32:24.463160Z",
     "iopub.status.busy": "2025-06-24T09:32:24.462154Z",
     "iopub.status.idle": "2025-06-24T09:32:24.473080Z",
     "shell.execute_reply": "2025-06-24T09:32:24.472249Z"
    },
    "papermill": {
     "duration": 0.017896,
     "end_time": "2025-06-24T09:32:24.474622",
     "exception": false,
     "start_time": "2025-06-24T09:32:24.456726",
     "status": "completed"
    },
    "tags": []
   },
   "outputs": [
    {
     "data": {
      "text/html": [
       "<div>\n",
       "<style scoped>\n",
       "    .dataframe tbody tr th:only-of-type {\n",
       "        vertical-align: middle;\n",
       "    }\n",
       "\n",
       "    .dataframe tbody tr th {\n",
       "        vertical-align: top;\n",
       "    }\n",
       "\n",
       "    .dataframe thead th {\n",
       "        text-align: right;\n",
       "    }\n",
       "</style>\n",
       "<table border=\"1\" class=\"dataframe\">\n",
       "  <thead>\n",
       "    <tr style=\"text-align: right;\">\n",
       "      <th></th>\n",
       "      <th>ID</th>\n",
       "      <th>Gap</th>\n",
       "    </tr>\n",
       "  </thead>\n",
       "  <tbody>\n",
       "    <tr>\n",
       "      <th>0</th>\n",
       "      <td>ID_NGS9Bx_N</td>\n",
       "      <td>-3968.000000</td>\n",
       "    </tr>\n",
       "    <tr>\n",
       "      <th>1</th>\n",
       "      <td>ID_NGS9Bx_P</td>\n",
       "      <td>13.772320</td>\n",
       "    </tr>\n",
       "    <tr>\n",
       "      <th>2</th>\n",
       "      <td>ID_NGS9Bx_K</td>\n",
       "      <td>-397.088000</td>\n",
       "    </tr>\n",
       "    <tr>\n",
       "      <th>3</th>\n",
       "      <td>ID_NGS9Bx_Ca</td>\n",
       "      <td>-12913.344000</td>\n",
       "    </tr>\n",
       "    <tr>\n",
       "      <th>4</th>\n",
       "      <td>ID_NGS9Bx_Mg</td>\n",
       "      <td>-3729.328000</td>\n",
       "    </tr>\n",
       "    <tr>\n",
       "      <th>...</th>\n",
       "      <td>...</td>\n",
       "      <td>...</td>\n",
       "    </tr>\n",
       "    <tr>\n",
       "      <th>26593</th>\n",
       "      <td>ID_oMn2Yb_Fe</td>\n",
       "      <td>-418.660720</td>\n",
       "    </tr>\n",
       "    <tr>\n",
       "      <th>26594</th>\n",
       "      <td>ID_oMn2Yb_Mn</td>\n",
       "      <td>-435.567920</td>\n",
       "    </tr>\n",
       "    <tr>\n",
       "      <th>26595</th>\n",
       "      <td>ID_oMn2Yb_Zn</td>\n",
       "      <td>-19.269560</td>\n",
       "    </tr>\n",
       "    <tr>\n",
       "      <th>26596</th>\n",
       "      <td>ID_oMn2Yb_Cu</td>\n",
       "      <td>-5.012992</td>\n",
       "    </tr>\n",
       "    <tr>\n",
       "      <th>26597</th>\n",
       "      <td>ID_oMn2Yb_B</td>\n",
       "      <td>-1.174456</td>\n",
       "    </tr>\n",
       "  </tbody>\n",
       "</table>\n",
       "<p>26598 rows × 2 columns</p>\n",
       "</div>"
      ],
      "text/plain": [
       "                 ID           Gap\n",
       "0       ID_NGS9Bx_N  -3968.000000\n",
       "1       ID_NGS9Bx_P     13.772320\n",
       "2       ID_NGS9Bx_K   -397.088000\n",
       "3      ID_NGS9Bx_Ca -12913.344000\n",
       "4      ID_NGS9Bx_Mg  -3729.328000\n",
       "...             ...           ...\n",
       "26593  ID_oMn2Yb_Fe   -418.660720\n",
       "26594  ID_oMn2Yb_Mn   -435.567920\n",
       "26595  ID_oMn2Yb_Zn    -19.269560\n",
       "26596  ID_oMn2Yb_Cu     -5.012992\n",
       "26597   ID_oMn2Yb_B     -1.174456\n",
       "\n",
       "[26598 rows x 2 columns]"
      ]
     },
     "execution_count": 6,
     "metadata": {},
     "output_type": "execute_result"
    }
   ],
   "source": [
    "sub4"
   ]
  },
  {
   "cell_type": "markdown",
   "id": "f886dc84",
   "metadata": {
    "papermill": {
     "duration": 0.004174,
     "end_time": "2025-06-24T09:32:24.483699",
     "exception": false,
     "start_time": "2025-06-24T09:32:24.479525",
     "status": "completed"
    },
    "tags": []
   },
   "source": [
    "## 🎯 Strategy Behind the Weights"
   ]
  },
  {
   "cell_type": "code",
   "execution_count": 7,
   "id": "d6a6492e",
   "metadata": {
    "execution": {
     "iopub.execute_input": "2025-06-24T09:32:24.493815Z",
     "iopub.status.busy": "2025-06-24T09:32:24.493520Z",
     "iopub.status.idle": "2025-06-24T09:32:24.502450Z",
     "shell.execute_reply": "2025-06-24T09:32:24.501233Z"
    },
    "papermill": {
     "duration": 0.016069,
     "end_time": "2025-06-24T09:32:24.504196",
     "exception": false,
     "start_time": "2025-06-24T09:32:24.488127",
     "status": "completed"
    },
    "tags": []
   },
   "outputs": [],
   "source": [
    "# First blend: combine two LightGBM variants equally\n",
    "\n",
    "lgbm_sub = sub1.copy()\n",
    "lgbm_sub.Gap = (sub1.Gap * 0.5) + (sub2.Gap * 0.5)"
   ]
  },
  {
   "cell_type": "code",
   "execution_count": 8,
   "id": "91c7647a",
   "metadata": {
    "execution": {
     "iopub.execute_input": "2025-06-24T09:32:24.514818Z",
     "iopub.status.busy": "2025-06-24T09:32:24.514504Z",
     "iopub.status.idle": "2025-06-24T09:32:24.525625Z",
     "shell.execute_reply": "2025-06-24T09:32:24.524680Z"
    },
    "papermill": {
     "duration": 0.018472,
     "end_time": "2025-06-24T09:32:24.527501",
     "exception": false,
     "start_time": "2025-06-24T09:32:24.509029",
     "status": "completed"
    },
    "tags": []
   },
   "outputs": [
    {
     "data": {
      "text/html": [
       "<div>\n",
       "<style scoped>\n",
       "    .dataframe tbody tr th:only-of-type {\n",
       "        vertical-align: middle;\n",
       "    }\n",
       "\n",
       "    .dataframe tbody tr th {\n",
       "        vertical-align: top;\n",
       "    }\n",
       "\n",
       "    .dataframe thead th {\n",
       "        text-align: right;\n",
       "    }\n",
       "</style>\n",
       "<table border=\"1\" class=\"dataframe\">\n",
       "  <thead>\n",
       "    <tr style=\"text-align: right;\">\n",
       "      <th></th>\n",
       "      <th>ID</th>\n",
       "      <th>Gap</th>\n",
       "    </tr>\n",
       "  </thead>\n",
       "  <tbody>\n",
       "    <tr>\n",
       "      <th>0</th>\n",
       "      <td>ID_NGS9Bx_N</td>\n",
       "      <td>-3586.146965</td>\n",
       "    </tr>\n",
       "    <tr>\n",
       "      <th>1</th>\n",
       "      <td>ID_NGS9Bx_P</td>\n",
       "      <td>27.888548</td>\n",
       "    </tr>\n",
       "    <tr>\n",
       "      <th>2</th>\n",
       "      <td>ID_NGS9Bx_K</td>\n",
       "      <td>-281.813327</td>\n",
       "    </tr>\n",
       "    <tr>\n",
       "      <th>3</th>\n",
       "      <td>ID_NGS9Bx_Ca</td>\n",
       "      <td>-12494.407740</td>\n",
       "    </tr>\n",
       "    <tr>\n",
       "      <th>4</th>\n",
       "      <td>ID_NGS9Bx_Mg</td>\n",
       "      <td>-3731.514358</td>\n",
       "    </tr>\n",
       "    <tr>\n",
       "      <th>...</th>\n",
       "      <td>...</td>\n",
       "      <td>...</td>\n",
       "    </tr>\n",
       "    <tr>\n",
       "      <th>26593</th>\n",
       "      <td>ID_oMn2Yb_Fe</td>\n",
       "      <td>-370.648698</td>\n",
       "    </tr>\n",
       "    <tr>\n",
       "      <th>26594</th>\n",
       "      <td>ID_oMn2Yb_Mn</td>\n",
       "      <td>-360.495592</td>\n",
       "    </tr>\n",
       "    <tr>\n",
       "      <th>26595</th>\n",
       "      <td>ID_oMn2Yb_Zn</td>\n",
       "      <td>-9.900347</td>\n",
       "    </tr>\n",
       "    <tr>\n",
       "      <th>26596</th>\n",
       "      <td>ID_oMn2Yb_Cu</td>\n",
       "      <td>-4.111220</td>\n",
       "    </tr>\n",
       "    <tr>\n",
       "      <th>26597</th>\n",
       "      <td>ID_oMn2Yb_B</td>\n",
       "      <td>-1.178507</td>\n",
       "    </tr>\n",
       "  </tbody>\n",
       "</table>\n",
       "<p>26598 rows × 2 columns</p>\n",
       "</div>"
      ],
      "text/plain": [
       "                 ID           Gap\n",
       "0       ID_NGS9Bx_N  -3586.146965\n",
       "1       ID_NGS9Bx_P     27.888548\n",
       "2       ID_NGS9Bx_K   -281.813327\n",
       "3      ID_NGS9Bx_Ca -12494.407740\n",
       "4      ID_NGS9Bx_Mg  -3731.514358\n",
       "...             ...           ...\n",
       "26593  ID_oMn2Yb_Fe   -370.648698\n",
       "26594  ID_oMn2Yb_Mn   -360.495592\n",
       "26595  ID_oMn2Yb_Zn     -9.900347\n",
       "26596  ID_oMn2Yb_Cu     -4.111220\n",
       "26597   ID_oMn2Yb_B     -1.178507\n",
       "\n",
       "[26598 rows x 2 columns]"
      ]
     },
     "execution_count": 8,
     "metadata": {},
     "output_type": "execute_result"
    }
   ],
   "source": [
    "lgbm_sub"
   ]
  },
  {
   "cell_type": "markdown",
   "id": "a2b0c065",
   "metadata": {
    "papermill": {
     "duration": 0.004493,
     "end_time": "2025-06-24T09:32:24.537103",
     "exception": false,
     "start_time": "2025-06-24T09:32:24.532610",
     "status": "completed"
    },
    "tags": []
   },
   "source": [
    ">✅ Why? These two LGBM submissions likely have similar modeling pipelines but might capture slightly different interactions or hyperparameter sweet spots. A 50/50 blend smooths their differences. You will ask but you said sub1 is the best of the best? Why then are you equally giving weights to both sub1 and sub2? Honestly, the public LB and the private LB sometimes tell different stories, so I was just playing it safe😜"
   ]
  },
  {
   "cell_type": "code",
   "execution_count": 9,
   "id": "ebb1efe9",
   "metadata": {
    "execution": {
     "iopub.execute_input": "2025-06-24T09:32:24.548481Z",
     "iopub.status.busy": "2025-06-24T09:32:24.548041Z",
     "iopub.status.idle": "2025-06-24T09:32:24.556320Z",
     "shell.execute_reply": "2025-06-24T09:32:24.555175Z"
    },
    "papermill": {
     "duration": 0.016574,
     "end_time": "2025-06-24T09:32:24.558576",
     "exception": false,
     "start_time": "2025-06-24T09:32:24.542002",
     "status": "completed"
    },
    "tags": []
   },
   "outputs": [],
   "source": [
    "# First blend: combine two random forest variants equally\n",
    "\n",
    "rf_sub = sub3.copy()\n",
    "rf_sub.Gap = (sub3.Gap * 0.5) + (sub4.Gap * 0.5)"
   ]
  },
  {
   "cell_type": "code",
   "execution_count": 10,
   "id": "b8f0e2f3",
   "metadata": {
    "execution": {
     "iopub.execute_input": "2025-06-24T09:32:24.572791Z",
     "iopub.status.busy": "2025-06-24T09:32:24.572056Z",
     "iopub.status.idle": "2025-06-24T09:32:24.579731Z",
     "shell.execute_reply": "2025-06-24T09:32:24.578638Z"
    },
    "papermill": {
     "duration": 0.016061,
     "end_time": "2025-06-24T09:32:24.581936",
     "exception": false,
     "start_time": "2025-06-24T09:32:24.565875",
     "status": "completed"
    },
    "tags": []
   },
   "outputs": [],
   "source": [
    "# Final blend: bring in sub3 with 35% weight\n",
    "\n",
    "final_sub = lgbm_sub.copy()\n",
    "final_sub.Gap = ((lgbm_sub.Gap * 0.65) + (rf_sub.Gap * 0.35))"
   ]
  },
  {
   "cell_type": "markdown",
   "id": "e2183536",
   "metadata": {
    "papermill": {
     "duration": 0.004812,
     "end_time": "2025-06-24T09:32:24.592723",
     "exception": false,
     "start_time": "2025-06-24T09:32:24.587911",
     "status": "completed"
    },
    "tags": []
   },
   "source": [
    ">🧠 Why 65/35? Sub3 might have demonstrated better leaderboard or cross-validation performance in some areas. Giving it a 35% say in the final blend helps inject diversity and correction — without overpowering the stable LGBM foundation."
   ]
  },
  {
   "cell_type": "code",
   "execution_count": 11,
   "id": "4eb68aeb",
   "metadata": {
    "execution": {
     "iopub.execute_input": "2025-06-24T09:32:24.604437Z",
     "iopub.status.busy": "2025-06-24T09:32:24.603938Z",
     "iopub.status.idle": "2025-06-24T09:32:24.616293Z",
     "shell.execute_reply": "2025-06-24T09:32:24.615189Z"
    },
    "papermill": {
     "duration": 0.020394,
     "end_time": "2025-06-24T09:32:24.618137",
     "exception": false,
     "start_time": "2025-06-24T09:32:24.597743",
     "status": "completed"
    },
    "tags": []
   },
   "outputs": [
    {
     "data": {
      "text/html": [
       "<div>\n",
       "<style scoped>\n",
       "    .dataframe tbody tr th:only-of-type {\n",
       "        vertical-align: middle;\n",
       "    }\n",
       "\n",
       "    .dataframe tbody tr th {\n",
       "        vertical-align: top;\n",
       "    }\n",
       "\n",
       "    .dataframe thead th {\n",
       "        text-align: right;\n",
       "    }\n",
       "</style>\n",
       "<table border=\"1\" class=\"dataframe\">\n",
       "  <thead>\n",
       "    <tr style=\"text-align: right;\">\n",
       "      <th></th>\n",
       "      <th>ID</th>\n",
       "      <th>Gap</th>\n",
       "    </tr>\n",
       "  </thead>\n",
       "  <tbody>\n",
       "    <tr>\n",
       "      <th>0</th>\n",
       "      <td>ID_NGS9Bx_N</td>\n",
       "      <td>-3667.442527</td>\n",
       "    </tr>\n",
       "    <tr>\n",
       "      <th>1</th>\n",
       "      <td>ID_NGS9Bx_P</td>\n",
       "      <td>23.539648</td>\n",
       "    </tr>\n",
       "    <tr>\n",
       "      <th>2</th>\n",
       "      <td>ID_NGS9Bx_K</td>\n",
       "      <td>-314.221463</td>\n",
       "    </tr>\n",
       "    <tr>\n",
       "      <th>3</th>\n",
       "      <td>ID_NGS9Bx_Ca</td>\n",
       "      <td>-13158.820251</td>\n",
       "    </tr>\n",
       "    <tr>\n",
       "      <th>4</th>\n",
       "      <td>ID_NGS9Bx_Mg</td>\n",
       "      <td>-3802.619533</td>\n",
       "    </tr>\n",
       "    <tr>\n",
       "      <th>...</th>\n",
       "      <td>...</td>\n",
       "      <td>...</td>\n",
       "    </tr>\n",
       "    <tr>\n",
       "      <th>26593</th>\n",
       "      <td>ID_oMn2Yb_Fe</td>\n",
       "      <td>-387.037148</td>\n",
       "    </tr>\n",
       "    <tr>\n",
       "      <th>26594</th>\n",
       "      <td>ID_oMn2Yb_Mn</td>\n",
       "      <td>-377.123885</td>\n",
       "    </tr>\n",
       "    <tr>\n",
       "      <th>26595</th>\n",
       "      <td>ID_oMn2Yb_Zn</td>\n",
       "      <td>-11.390216</td>\n",
       "    </tr>\n",
       "    <tr>\n",
       "      <th>26596</th>\n",
       "      <td>ID_oMn2Yb_Cu</td>\n",
       "      <td>-4.274502</td>\n",
       "    </tr>\n",
       "    <tr>\n",
       "      <th>26597</th>\n",
       "      <td>ID_oMn2Yb_B</td>\n",
       "      <td>-1.184431</td>\n",
       "    </tr>\n",
       "  </tbody>\n",
       "</table>\n",
       "<p>26598 rows × 2 columns</p>\n",
       "</div>"
      ],
      "text/plain": [
       "                 ID           Gap\n",
       "0       ID_NGS9Bx_N  -3667.442527\n",
       "1       ID_NGS9Bx_P     23.539648\n",
       "2       ID_NGS9Bx_K   -314.221463\n",
       "3      ID_NGS9Bx_Ca -13158.820251\n",
       "4      ID_NGS9Bx_Mg  -3802.619533\n",
       "...             ...           ...\n",
       "26593  ID_oMn2Yb_Fe   -387.037148\n",
       "26594  ID_oMn2Yb_Mn   -377.123885\n",
       "26595  ID_oMn2Yb_Zn    -11.390216\n",
       "26596  ID_oMn2Yb_Cu     -4.274502\n",
       "26597   ID_oMn2Yb_B     -1.184431\n",
       "\n",
       "[26598 rows x 2 columns]"
      ]
     },
     "execution_count": 11,
     "metadata": {},
     "output_type": "execute_result"
    }
   ],
   "source": [
    "final_sub"
   ]
  },
  {
   "cell_type": "code",
   "execution_count": 12,
   "id": "2bf6de0a",
   "metadata": {
    "execution": {
     "iopub.execute_input": "2025-06-24T09:32:24.630875Z",
     "iopub.status.busy": "2025-06-24T09:32:24.630162Z",
     "iopub.status.idle": "2025-06-24T09:32:24.710657Z",
     "shell.execute_reply": "2025-06-24T09:32:24.709422Z"
    },
    "papermill": {
     "duration": 0.089165,
     "end_time": "2025-06-24T09:32:24.712586",
     "exception": false,
     "start_time": "2025-06-24T09:32:24.623421",
     "status": "completed"
    },
    "tags": []
   },
   "outputs": [],
   "source": [
    "final_sub.to_csv('final_lgbm_rf_sub.csv', index=False)"
   ]
  },
  {
   "cell_type": "markdown",
   "id": "b6223230",
   "metadata": {
    "papermill": {
     "duration": 0.004623,
     "end_time": "2025-06-24T09:32:24.722514",
     "exception": false,
     "start_time": "2025-06-24T09:32:24.717891",
     "status": "completed"
    },
    "tags": []
   },
   "source": [
    "## Don't Just Have a Good Day, Have A Great Day!\n",
    "# THE END!"
   ]
  }
 ],
 "metadata": {
  "kaggle": {
   "accelerator": "none",
   "dataSources": [
    {
     "datasetId": 7728670,
     "sourceId": 12264743,
     "sourceType": "datasetVersion"
    },
    {
     "datasetId": 7730024,
     "sourceId": 12266843,
     "sourceType": "datasetVersion"
    },
    {
     "datasetId": 7730045,
     "sourceId": 12266871,
     "sourceType": "datasetVersion"
    },
    {
     "datasetId": 7730062,
     "sourceId": 12266910,
     "sourceType": "datasetVersion"
    }
   ],
   "dockerImageVersionId": 31040,
   "isGpuEnabled": false,
   "isInternetEnabled": true,
   "language": "python",
   "sourceType": "notebook"
  },
  "kernelspec": {
   "display_name": "Python 3",
   "language": "python",
   "name": "python3"
  },
  "language_info": {
   "codemirror_mode": {
    "name": "ipython",
    "version": 3
   },
   "file_extension": ".py",
   "mimetype": "text/x-python",
   "name": "python",
   "nbconvert_exporter": "python",
   "pygments_lexer": "ipython3",
   "version": "3.11.11"
  },
  "papermill": {
   "default_parameters": {},
   "duration": 8.931222,
   "end_time": "2025-06-24T09:32:25.247822",
   "environment_variables": {},
   "exception": null,
   "input_path": "__notebook__.ipynb",
   "output_path": "__notebook__.ipynb",
   "parameters": {},
   "start_time": "2025-06-24T09:32:16.316600",
   "version": "2.6.0"
  }
 },
 "nbformat": 4,
 "nbformat_minor": 5
}
